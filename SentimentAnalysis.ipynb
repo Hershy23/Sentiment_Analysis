{
  "nbformat": 4,
  "nbformat_minor": 0,
  "metadata": {
    "colab": {
      "provenance": []
    },
    "kernelspec": {
      "name": "python3",
      "display_name": "Python 3"
    },
    "language_info": {
      "name": "python"
    }
  },
  "cells": [
    {
      "cell_type": "code",
      "source": [
        "!pip install nltk tqdm seaborn"
      ],
      "metadata": {
        "id": "9bjrhVB6dv1J"
      },
      "execution_count": null,
      "outputs": []
    },
    {
      "cell_type": "code",
      "execution_count": null,
      "metadata": {
        "id": "afU5EMGwdvAg"
      },
      "outputs": [],
      "source": [
        "import pandas as pd\n",
        "import numpy as np\n",
        "import matplotlib.pyplot as plt\n",
        "import seaborn as sns\n",
        "\n",
        "plt.style.use('ggplot')\n",
        "\n",
        "import nltk\n",
        "nltk.download('punkt')\n",
        "nltk.download('averaged_perceptron_tagger')\n",
        "nltk.download('maxent_ne_chunker')\n",
        "nltk.download('words')\n",
        "nltk.download('vader_lexicon')"
      ]
    },
    {
      "cell_type": "code",
      "source": [
        "\n",
        "\n",
        "import io\n",
        "df = pd.read_csv('cleaned_data (1).csv')\n",
        "print(df.shape)\n",
        "df = df.head(500)\n",
        "print(df.shape)\n",
        "df.head()\n"
      ],
      "metadata": {
        "id": "NOaGcGKpeAvY"
      },
      "execution_count": null,
      "outputs": []
    },
    {
      "cell_type": "code",
      "source": [
        "ax = df['Stars'].value_counts().sort_index() \\\n",
        "    .plot(kind='bar',\n",
        "          title='Count of Reviews by Stars',\n",
        "          figsize=(10, 5))\n",
        "ax.set_xlabel('Review Stars')\n",
        "plt.show()\n"
      ],
      "metadata": {
        "id": "PLhl8gWjeEX4"
      },
      "execution_count": null,
      "outputs": []
    },
    {
      "cell_type": "code",
      "source": [
        "for index, row in df.iterrows():\n",
        "       example = row['Title']\n",
        "\n",
        "       print(example)\n",
        "       tokens = nltk.word_tokenize(example)\n",
        "\n",
        "tokens[:10]\n",
        "tagged = nltk.pos_tag(tokens)\n",
        "tagged[:10]\n",
        "entities = nltk.chunk.ne_chunk(tagged)\n",
        "entities.pprint()"
      ],
      "metadata": {
        "id": "oxqTkMPveVc2"
      },
      "execution_count": null,
      "outputs": []
    },
    {
      "cell_type": "code",
      "source": [
        "from nltk.sentiment import SentimentIntensityAnalyzer\n",
        "from tqdm.notebook import tqdm\n",
        "\n",
        "sia = SentimentIntensityAnalyzer()\n",
        "print(sia.polarity_scores('I am so happy!'))\n",
        "print(sia.polarity_scores('This is the worst thing ever.'))\n",
        "print(sia.polarity_scores(example))\n",
        "\n",
        "res = {}\n",
        "for i, row in tqdm(df.iterrows(), total=len(df)):\n",
        "    text = row['Title']\n",
        "    myid = i\n",
        "    res[myid] = sia.polarity_scores(text)\n",
        "\n",
        "vaders = pd.DataFrame(res).T\n",
        "vaders = vaders.reset_index().rename(columns={'index': 'Id'})\n",
        "vaders = vaders.merge(df, how='left', left_on='Id', right_index=True)\n",
        "vaders.head()"
      ],
      "metadata": {
        "id": "veQLfhF0eWff"
      },
      "execution_count": null,
      "outputs": []
    },
    {
      "cell_type": "code",
      "source": [
        "ax = sns.barplot(data=vaders, x='Stars', y='compound')\n",
        "ax.set_title('Compound Score by Amazon Star Review')\n",
        "plt.show()\n"
      ],
      "metadata": {
        "id": "Ea4rq_nZeoF7"
      },
      "execution_count": null,
      "outputs": []
    },
    {
      "cell_type": "code",
      "source": [
        "fig, axs = plt.subplots(1, 3, figsize=(12, 3))\n",
        "sns.barplot(data=vaders, x='Stars', y='pos', ax=axs[0])\n",
        "sns.barplot(data=vaders, x='Stars', y='neu', ax=axs[1])\n",
        "sns.barplot(data=vaders, x='Stars', y='neg', ax=axs[2])\n",
        "axs[0].set_title('Positive')\n",
        "axs[1].set_title('Neutral')\n",
        "axs[2].set_title('Negative')\n",
        "plt.tight_layout()\n",
        "plt.show()"
      ],
      "metadata": {
        "id": "RQC2TBN6etGl"
      },
      "execution_count": null,
      "outputs": []
    }
  ]
}